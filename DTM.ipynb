{
 "cells": [
  {
   "cell_type": "code",
   "execution_count": 26,
   "id": "9c07b7a9",
   "metadata": {},
   "outputs": [],
   "source": [
    "from sklearn.cluster import AgglomerativeClustering\n",
    "import matplotlib.pyplot as plt\n",
    "from sklearn.metrics import (\n",
    "    silhouette_score, silhouette_samples\n",
    ")\n",
    "\n",
    "import pandas as pd\n",
    "import seaborn as sns"
   ]
  },
  {
   "cell_type": "code",
   "execution_count": 27,
   "id": "86e2112a",
   "metadata": {},
   "outputs": [
    {
     "data": {
      "text/html": [
       "<div>\n",
       "<style scoped>\n",
       "    .dataframe tbody tr th:only-of-type {\n",
       "        vertical-align: middle;\n",
       "    }\n",
       "\n",
       "    .dataframe tbody tr th {\n",
       "        vertical-align: top;\n",
       "    }\n",
       "\n",
       "    .dataframe thead th {\n",
       "        text-align: right;\n",
       "    }\n",
       "</style>\n",
       "<table border=\"1\" class=\"dataframe\">\n",
       "  <thead>\n",
       "    <tr style=\"text-align: right;\">\n",
       "      <th></th>\n",
       "      <th>Area</th>\n",
       "      <th>Excentricidad</th>\n",
       "      <th>Solidez</th>\n",
       "      <th>Redondez</th>\n",
       "      <th>FactorForma3</th>\n",
       "      <th>FactorForma4</th>\n",
       "      <th>MétodoSecado_Honey</th>\n",
       "      <th>MétodoSecado_Lavado</th>\n",
       "      <th>MétodoSecado_Natural</th>\n",
       "      <th>RelacionAspecto_Alargado</th>\n",
       "      <th>RelacionAspecto_Redondeado</th>\n",
       "    </tr>\n",
       "  </thead>\n",
       "  <tbody>\n",
       "    <tr>\n",
       "      <th>0</th>\n",
       "      <td>0.129874</td>\n",
       "      <td>0.766774</td>\n",
       "      <td>0.792634</td>\n",
       "      <td>0.517365</td>\n",
       "      <td>0.155979</td>\n",
       "      <td>0.915241</td>\n",
       "      <td>0.0</td>\n",
       "      <td>1.0</td>\n",
       "      <td>0.0</td>\n",
       "      <td>1.0</td>\n",
       "      <td>0.0</td>\n",
       "    </tr>\n",
       "    <tr>\n",
       "      <th>1</th>\n",
       "      <td>0.180806</td>\n",
       "      <td>0.766774</td>\n",
       "      <td>0.683075</td>\n",
       "      <td>0.585128</td>\n",
       "      <td>0.108797</td>\n",
       "      <td>0.710502</td>\n",
       "      <td>0.0</td>\n",
       "      <td>0.0</td>\n",
       "      <td>1.0</td>\n",
       "      <td>1.0</td>\n",
       "      <td>0.0</td>\n",
       "    </tr>\n",
       "    <tr>\n",
       "      <th>2</th>\n",
       "      <td>0.168854</td>\n",
       "      <td>0.927020</td>\n",
       "      <td>0.805331</td>\n",
       "      <td>0.544120</td>\n",
       "      <td>0.157319</td>\n",
       "      <td>0.836267</td>\n",
       "      <td>0.0</td>\n",
       "      <td>0.0</td>\n",
       "      <td>1.0</td>\n",
       "      <td>1.0</td>\n",
       "      <td>0.0</td>\n",
       "    </tr>\n",
       "    <tr>\n",
       "      <th>3</th>\n",
       "      <td>0.147804</td>\n",
       "      <td>0.943714</td>\n",
       "      <td>0.913815</td>\n",
       "      <td>0.662102</td>\n",
       "      <td>0.126179</td>\n",
       "      <td>0.935583</td>\n",
       "      <td>0.0</td>\n",
       "      <td>1.0</td>\n",
       "      <td>0.0</td>\n",
       "      <td>1.0</td>\n",
       "      <td>0.0</td>\n",
       "    </tr>\n",
       "    <tr>\n",
       "      <th>4</th>\n",
       "      <td>0.080719</td>\n",
       "      <td>0.673493</td>\n",
       "      <td>0.895822</td>\n",
       "      <td>0.834715</td>\n",
       "      <td>0.555310</td>\n",
       "      <td>0.959610</td>\n",
       "      <td>0.0</td>\n",
       "      <td>1.0</td>\n",
       "      <td>0.0</td>\n",
       "      <td>1.0</td>\n",
       "      <td>0.0</td>\n",
       "    </tr>\n",
       "  </tbody>\n",
       "</table>\n",
       "</div>"
      ],
      "text/plain": [
       "       Area  Excentricidad   Solidez  Redondez  FactorForma3  FactorForma4  \\\n",
       "0  0.129874       0.766774  0.792634  0.517365      0.155979      0.915241   \n",
       "1  0.180806       0.766774  0.683075  0.585128      0.108797      0.710502   \n",
       "2  0.168854       0.927020  0.805331  0.544120      0.157319      0.836267   \n",
       "3  0.147804       0.943714  0.913815  0.662102      0.126179      0.935583   \n",
       "4  0.080719       0.673493  0.895822  0.834715      0.555310      0.959610   \n",
       "\n",
       "   MétodoSecado_Honey  MétodoSecado_Lavado  MétodoSecado_Natural  \\\n",
       "0                 0.0                  1.0                   0.0   \n",
       "1                 0.0                  0.0                   1.0   \n",
       "2                 0.0                  0.0                   1.0   \n",
       "3                 0.0                  1.0                   0.0   \n",
       "4                 0.0                  1.0                   0.0   \n",
       "\n",
       "   RelacionAspecto_Alargado  RelacionAspecto_Redondeado  \n",
       "0                       1.0                         0.0  \n",
       "1                       1.0                         0.0  \n",
       "2                       1.0                         0.0  \n",
       "3                       1.0                         0.0  \n",
       "4                       1.0                         0.0  "
      ]
     },
     "execution_count": 27,
     "metadata": {},
     "output_type": "execute_result"
    }
   ],
   "source": [
    "import pickle as pkl\n",
    "\n",
    "with open(\"df_clean.pkl\", \"rb\") as f:\n",
    "    df_clean = pkl.load(f)\n",
    "    \n",
    "df_clean.head(5)"
   ]
  },
  {
   "cell_type": "code",
   "execution_count": 28,
   "id": "73026bdd",
   "metadata": {},
   "outputs": [
    {
     "data": {
      "text/plain": [
       "Index(['Area', 'Excentricidad', 'Solidez', 'Redondez', 'FactorForma3',\n",
       "       'FactorForma4', 'MétodoSecado_Honey', 'MétodoSecado_Lavado',\n",
       "       'MétodoSecado_Natural', 'RelacionAspecto_Alargado',\n",
       "       'RelacionAspecto_Redondeado'],\n",
       "      dtype='object')"
      ]
     },
     "execution_count": 28,
     "metadata": {},
     "output_type": "execute_result"
    }
   ],
   "source": [
    "df_clean.columns"
   ]
  },
  {
   "cell_type": "markdown",
   "id": "66e3ee58",
   "metadata": {},
   "source": [
    "# Affinity Propagation Clustering\n",
    "\n",
    "El Affinity Propagation es un algoritmo de clustering que identifica \"*exemplars*\" entre los datos y forma clusters alrededor de estos exemplars. Similar al DBSCAN, no requiere que se especifique el número de clusters de antemano, y sus hiperparámetros son el *damping factor*, la preferencia y el cálculo de la similitud entre puntos que se puede realizar con diferentes métricas de distancia como la distancia euclidiana o la distancia del coseno.\n",
    "\n",
    "Este método se basa en la transmisión de mensajes entre puntos de datos para determinar los *exemplars* y los clusters. Los puntos de datos eligen dinámicamente sus ejemplares, los cuales son puntos prototípicos alrededor de los cuales se forman los clusters. \n",
    "\n",
    "**Intercambio de Mensajes:**\n",
    "\n",
    "Cada punto de datos puede potencialmente ser elegido como *exemplar* (representante o centro de un clúster). Para decidirlo, los puntos intercambian dos tipos de mensajes numéricos entre sí:\n",
    "\n",
    "* Responsabilidad (r(i, k)): Indica \"qué tan apropiado es que k represente a i\". Se calcula considerando la similaridad entre i y k, corregida con respecto a qué otros candidatos k′ podrían explicar mejor a i.\n",
    "\n",
    "* Disponibilidad (a(i, k)): Indica \"qué tan adecuado es que k acepte representar a i\". Se actualiza en función de las responsabilidades que otros puntos envían a k (es decir, cuántos más quieren que k sea su ejemplar).\n",
    "\n",
    "**Procedimiento general:**\n",
    "* Inicialmente todas las disponibilidades empiezan en cero. \n",
    "* Se alternan las actualizaciones de responsabilidades y disponibilidades basándose en cálculos matemáticos.\n",
    "* Estas actualizaciones se repiten hasta alcanzar convergencia (o hasta un número máximo de iteraciones).\n",
    "\n",
    "**Hiperparámetros principales:**\n",
    "\n",
    "* **damping:** un valor en el rango [0.5, 1) que ayuda a estabilizar las actualizaciones de mensajes y evitar oscilaciones numéricas. Un valor más alto significa que las actualizaciones son más suaves y menos propensas a cambios bruscos.]\n",
    "\n",
    "* **preference:** un valor que influye en la probabilidad de que un punto sea elegido como *exemplar*. Valores más altos tienden a producir más clusters, mientras que valores más bajos tienden a producir menos clusters. Si no se especifica, se suele usar la mediana o el valor mínimo de las similitudes entre puntos."
   ]
  },
  {
   "cell_type": "code",
   "execution_count": 29,
   "id": "f3a9254d",
   "metadata": {},
   "outputs": [],
   "source": [
    "ag_model = AgglomerativeClustering()\n",
    "\n",
    "ag_model = ag_model.fit(df_clean)"
   ]
  },
  {
   "cell_type": "code",
   "execution_count": 30,
   "id": "ff11a3f4",
   "metadata": {},
   "outputs": [],
   "source": [
    "with open(\"ag_model.pkl\", \"wb\") as f:\n",
    "    pkl.dump(ag_model, f)"
   ]
  },
  {
   "cell_type": "code",
   "execution_count": 31,
   "id": "55020488",
   "metadata": {},
   "outputs": [
    {
     "data": {
      "text/plain": [
       "<Axes: xlabel='None'>"
      ]
     },
     "execution_count": 31,
     "metadata": {},
     "output_type": "execute_result"
    },
    {
     "data": {
      "image/png": "[encoded data removed]",
      "text/plain": [
       "<Figure size 1200x800 with 1 Axes>"
      ]
     },
     "metadata": {},
     "output_type": "display_data"
    }
   ],
   "source": [
    "ag_cluster_labels = pd.Series(ag_model.labels_)\n",
    "ag_clusters = ag_cluster_labels.value_counts()\n",
    "fig = plt.figure(figsize=(12,8))\n",
    "sns.barplot(x=ag_clusters.index, y=ag_clusters.values, color='b')"
   ]
  },
  {
   "cell_type": "code",
   "execution_count": null,
   "id": "dd89cfb8",
   "metadata": {},
   "outputs": [
    {
     "data": {
      "text/plain": [
       "<Axes: xlabel='None'>"
      ]
     },
     "execution_count": 39,
     "metadata": {},
     "output_type": "execute_result"
    },
    {
     "data": {
      "image/png": "[encoded data removed]",
      "text/plain": [
       "<Figure size 1200x800 with 1 Axes>"
      ]
     },
     "metadata": {},
     "output_type": "display_data"
    }
   ],
   "source": [
    "ag_model = AgglomerativeClustering(distance_threshold=15, n_clusters=None)\n",
    "\n",
    "ag_model = ag_model.fit(df_clean)\n",
    "\n",
    "ag_cluster_labels = pd.Series(ag_model.labels_)\n",
    "ag_clusters = ag_cluster_labels.value_counts()\n",
    "fig = plt.figure(figsize=(12,8))\n",
    "sns.barplot(x=ag_clusters.index, y=ag_clusters.values, color='b')"
   ]
  }
 ],
 "metadata": {
  "kernelspec": {
   "display_name": "bi",
   "language": "python",
   "name": "python3"
  },
  "language_info": {
   "codemirror_mode": {
    "name": "ipython",
    "version": 3
   },
   "file_extension": ".py",
   "mimetype": "text/x-python",
   "name": "python",
   "nbconvert_exporter": "python",
   "pygments_lexer": "ipython3",
   "version": "3.12.11"
  }
 },
 "nbformat": 4,
 "nbformat_minor": 5
}
